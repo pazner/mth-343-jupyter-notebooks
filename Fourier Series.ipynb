{
 "cells": [
  {
   "cell_type": "markdown",
   "metadata": {
    "id": "ioTIGK7IRKDd"
   },
   "source": [
    "# Fourier Series"
   ]
  },
  {
   "cell_type": "markdown",
   "metadata": {},
   "source": [
    "This simple notebook will illustrate truncated Fourier series approximation."
   ]
  },
  {
   "cell_type": "code",
   "execution_count": null,
   "metadata": {
    "executionInfo": {
     "elapsed": 800,
     "status": "ok",
     "timestamp": 1698950011307,
     "user": {
      "displayName": "Will Pazner",
      "userId": "14253351895785297406"
     },
     "user_tz": 420
    },
    "id": "r17fA8YcRTiD"
   },
   "outputs": [],
   "source": [
    "import sympy\n",
    "from sympy import exp, integrate, pi, sin, cos, Heaviside\n",
    "sympy.init_printing()\n",
    "%matplotlib inline"
   ]
  },
  {
   "cell_type": "markdown",
   "metadata": {},
   "source": [
    "We take $t \\in [0,2\\pi]$, and approximate a function $f(t)$"
   ]
  },
  {
   "cell_type": "code",
   "execution_count": null,
   "metadata": {
    "executionInfo": {
     "elapsed": 191,
     "status": "ok",
     "timestamp": 1698950012485,
     "user": {
      "displayName": "Will Pazner",
      "userId": "14253351895785297406"
     },
     "user_tz": 420
    },
    "id": "XM0LDNSbRvvo"
   },
   "outputs": [],
   "source": [
    "t0 = 0\n",
    "t1 = 2*pi\n",
    "t = sympy.Symbol('t', real=True)"
   ]
  },
  {
   "cell_type": "markdown",
   "metadata": {},
   "source": [
    "The coefficients are given by\n",
    "$$\n",
    "\\frac{a_n}{\\gamma_n} = \\int_0^{2\\pi} f(t) \\cos (nt) \\, dt,\n",
    "\\qquad\n",
    "\\frac{b_n}{\\gamma_n} = \\int_0^{2\\pi} f(t) \\sin (nt) \\, dt,\n",
    "$$\n",
    "where\n",
    "$$\n",
    "\\gamma_n = \\begin{cases} \\pi &\\quad \\text{if n > 0} \\\\ 2\\pi &\\quad \\text{if n = 0} \\end{cases}\n",
    "$$"
   ]
  },
  {
   "cell_type": "code",
   "execution_count": null,
   "metadata": {
    "executionInfo": {
     "elapsed": 149,
     "status": "ok",
     "timestamp": 1698950779598,
     "user": {
      "displayName": "Will Pazner",
      "userId": "14253351895785297406"
     },
     "user_tz": 420
    },
    "id": "ufsgAK4YSaZK"
   },
   "outputs": [],
   "source": [
    "def a(n):\n",
    "  return sympy.integrate(f(t) * cos(n*t), (t, t0, t1)) / (pi if n > 0 else 2*pi)\n",
    "\n",
    "def b(n):\n",
    "  return sympy.integrate(f(t) * sin(n*t), (t, t0, t1)) / (pi if n > 0 else 2*pi)"
   ]
  },
  {
   "cell_type": "markdown",
   "metadata": {},
   "source": [
    "The truncated fourier series (with $N$ terms) is\n",
    "$$\n",
    "    S_N(t) = \\sum_{n=0}^{N-1} \\left( a_n \\cos(nt) + b_n \\sin(nt) \\right)\n",
    "$$"
   ]
  },
  {
   "cell_type": "code",
   "execution_count": null,
   "metadata": {
    "executionInfo": {
     "elapsed": 238,
     "status": "ok",
     "timestamp": 1698950780641,
     "user": {
      "displayName": "Will Pazner",
      "userId": "14253351895785297406"
     },
     "user_tz": 420
    },
    "id": "KlkD9qJqRqQH"
   },
   "outputs": [],
   "source": [
    "def S(N):\n",
    "    return sum(a(n)*cos(n*t) + b(n)*sin(n*t) for n in range(0, N))"
   ]
  },
  {
   "cell_type": "markdown",
   "metadata": {},
   "source": [
    "Define $f(t)$ t be a sine wave with some high-frequency perturbation"
   ]
  },
  {
   "cell_type": "code",
   "execution_count": null,
   "metadata": {},
   "outputs": [],
   "source": [
    "def f(t):\n",
    "    return sin(t) + 0.05*sin(10*t) + 0.025*cos(20*t)\n",
    "\n",
    "interval = (t, t0 - pi/4, t1 + pi/4)\n",
    "sympy.plot(f(t), interval, show=False).show()"
   ]
  },
  {
   "cell_type": "code",
   "execution_count": null,
   "metadata": {
    "colab": {
     "base_uri": "https://localhost:8080/",
     "height": 53
    },
    "executionInfo": {
     "elapsed": 844,
     "status": "ok",
     "timestamp": 1698950799953,
     "user": {
      "displayName": "Will Pazner",
      "userId": "14253351895785297406"
     },
     "user_tz": 420
    },
    "id": "reSXhXfpW9Fz",
    "outputId": "18121d5d-96f6-404a-ab0a-40401d96f953"
   },
   "outputs": [],
   "source": [
    "N = 2\n",
    "S(N)"
   ]
  },
  {
   "cell_type": "code",
   "execution_count": null,
   "metadata": {
    "colab": {
     "base_uri": "https://localhost:8080/",
     "height": 486
    },
    "executionInfo": {
     "elapsed": 1574,
     "status": "ok",
     "timestamp": 1698950802459,
     "user": {
      "displayName": "Will Pazner",
      "userId": "14253351895785297406"
     },
     "user_tz": 420
    },
    "id": "aQ-tlyoERztt",
    "outputId": "d5fb2449-ca35-4c11-a5a8-ecaa2c44889b"
   },
   "outputs": [],
   "source": [
    "p1 = sympy.plot(f(t), interval, show=False)\n",
    "p2 = sympy.plot(S(N), interval, show=False)\n",
    "p2[0].line_color = 'red'\n",
    "p1.extend(p2)\n",
    "p1.show()\n"
   ]
  },
  {
   "cell_type": "markdown",
   "metadata": {},
   "source": [
    "What happens when $f(t)$ is not periodic?\n",
    "\n",
    "Now we try with $f(t) = t$."
   ]
  },
  {
   "cell_type": "code",
   "execution_count": null,
   "metadata": {},
   "outputs": [],
   "source": [
    "N = 6\n",
    "def f(t):\n",
    "    return t\n",
    "S(N)"
   ]
  },
  {
   "cell_type": "code",
   "execution_count": null,
   "metadata": {},
   "outputs": [],
   "source": [
    "p1 = sympy.plot(f(t), interval, show=False)\n",
    "p2 = sympy.plot(S(N), interval, show=False)\n",
    "p2[0].line_color = 'red'\n",
    "p1.extend(p2)\n",
    "p1.show()"
   ]
  },
  {
   "cell_type": "markdown",
   "metadata": {},
   "source": [
    "Let's try $f(x) = 50 - t^2$."
   ]
  },
  {
   "cell_type": "code",
   "execution_count": null,
   "metadata": {},
   "outputs": [],
   "source": [
    "N = 6\n",
    "def f(t):\n",
    "    return 50 - t*t\n",
    "S(N)"
   ]
  },
  {
   "cell_type": "code",
   "execution_count": null,
   "metadata": {},
   "outputs": [],
   "source": [
    "p1 = sympy.plot(f(t), interval, show=False)\n",
    "p2 = sympy.plot(S(N), interval, show=False)\n",
    "p2[0].line_color = 'red'\n",
    "p1.extend(p2)\n",
    "p1.show()"
   ]
  },
  {
   "cell_type": "markdown",
   "metadata": {},
   "source": [
    "Increasing the number of \"Fourier modes\" can improve the approximation (at the cost of more computations). But it seems that the oscillations at the endpoints are unavoidable when $f(t)$ is not periodic…"
   ]
  },
  {
   "cell_type": "code",
   "execution_count": null,
   "metadata": {},
   "outputs": [],
   "source": [
    "N = 16\n",
    "p1 = sympy.plot(f(t), interval, show=False)\n",
    "p2 = sympy.plot(S(N), interval, show=False)\n",
    "p2[0].line_color = 'red'\n",
    "p1.extend(p2)\n",
    "p1.show()"
   ]
  }
 ],
 "metadata": {
  "colab": {
   "authorship_tag": "ABX9TyM8RZgrthsQ8gmKpV0xVtLJ",
   "provenance": []
  },
  "kernelspec": {
   "display_name": "Python 3 (ipykernel)",
   "language": "python",
   "name": "python3"
  },
  "language_info": {
   "codemirror_mode": {
    "name": "ipython",
    "version": 3
   },
   "file_extension": ".py",
   "mimetype": "text/x-python",
   "name": "python",
   "nbconvert_exporter": "python",
   "pygments_lexer": "ipython3",
   "version": "3.8.10"
  }
 },
 "nbformat": 4,
 "nbformat_minor": 4
}
