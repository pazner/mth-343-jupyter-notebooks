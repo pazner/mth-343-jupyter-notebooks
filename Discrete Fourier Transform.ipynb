{
  "nbformat": 4,
  "nbformat_minor": 0,
  "metadata": {
    "colab": {
      "provenance": []
    },
    "kernelspec": {
      "name": "python3",
      "display_name": "Python 3"
    },
    "language_info": {
      "name": "python"
    }
  },
  "cells": [
    {
      "cell_type": "code",
      "execution_count": null,
      "metadata": {
        "id": "saP112S-6E0w"
      },
      "outputs": [],
      "source": [
        "import numpy as np\n",
        "import matplotlib.pyplot as plt\n",
        "\n",
        "from numpy import pi, sin, cos, exp, real, imag"
      ]
    },
    {
      "cell_type": "code",
      "source": [
        "N = 10"
      ],
      "metadata": {
        "id": "kbYffC7M6-B_"
      },
      "execution_count": null,
      "outputs": []
    },
    {
      "cell_type": "code",
      "source": [
        "y = np.array([\n",
        "    4*sin(2*pi*k/N) + 6*cos(8*pi*k/N)\n",
        "    for k in range(0,N)\n",
        "])"
      ],
      "metadata": {
        "id": "Uxp-eBsW6JeP"
      },
      "execution_count": null,
      "outputs": []
    },
    {
      "cell_type": "code",
      "source": [
        "plt.plot(y)"
      ],
      "metadata": {
        "id": "W7s49kV96pwN"
      },
      "execution_count": null,
      "outputs": []
    },
    {
      "cell_type": "code",
      "source": [
        "W = exp(2j*pi/N)\n",
        "W"
      ],
      "metadata": {
        "id": "k9A6qWmr7p8x"
      },
      "execution_count": null,
      "outputs": []
    },
    {
      "cell_type": "code",
      "source": [
        "F = np.array([\n",
        "    [\n",
        "        W**(i*j)\n",
        "        for j in range(0,N)\n",
        "    ]\n",
        "    for i in range(0,N)\n",
        "])"
      ],
      "metadata": {
        "id": "Mgv9sWLU63Us"
      },
      "execution_count": null,
      "outputs": []
    },
    {
      "cell_type": "code",
      "source": [
        "Finv = (1.0/N) * np.array([\n",
        "    [\n",
        "        W**(-i*j)\n",
        "        for j in range(0,N)\n",
        "    ]\n",
        "    for i in range(0,N)\n",
        "])"
      ],
      "metadata": {
        "id": "ER9S_6Q47H5v"
      },
      "execution_count": null,
      "outputs": []
    },
    {
      "cell_type": "code",
      "source": [
        "plt.spy((Finv @ F).round(decimals=10))"
      ],
      "metadata": {
        "id": "s6e4mmXB8CJL"
      },
      "execution_count": null,
      "outputs": []
    },
    {
      "cell_type": "code",
      "source": [
        "np.set_printoptions(suppress=True, linewidth=100)"
      ],
      "metadata": {
        "id": "eijcU80f8-F6"
      },
      "execution_count": null,
      "outputs": []
    },
    {
      "cell_type": "code",
      "source": [
        "z = Finv @ y"
      ],
      "metadata": {
        "id": "QmxGmXzR8Hds"
      },
      "execution_count": null,
      "outputs": []
    },
    {
      "cell_type": "code",
      "source": [
        "real(z)"
      ],
      "metadata": {
        "id": "N_o7WPvf8jLD"
      },
      "execution_count": null,
      "outputs": []
    },
    {
      "cell_type": "code",
      "source": [
        "imag(z)"
      ],
      "metadata": {
        "id": "QHdlApCG9Z6i"
      },
      "execution_count": null,
      "outputs": []
    },
    {
      "cell_type": "code",
      "source": [
        "plt.plot(real(z), '.')\n",
        "plt.plot(imag(z), '.')"
      ],
      "metadata": {
        "id": "WG_12Rj_9a4Y"
      },
      "execution_count": null,
      "outputs": []
    },
    {
      "cell_type": "code",
      "source": [
        "NN = 50\n",
        "y = np.array([\n",
        "    4*sin(2*pi*k/NN) + 6*cos(8*pi*k/NN)\n",
        "    for k in range(0,NN)\n",
        "])\n",
        "plt.plot(y)"
      ],
      "metadata": {
        "id": "ctStY8I-_kbc"
      },
      "execution_count": null,
      "outputs": []
    }
  ]
}
